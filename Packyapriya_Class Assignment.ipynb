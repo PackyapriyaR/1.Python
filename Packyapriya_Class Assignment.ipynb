{
 "cells": [
  {
   "cell_type": "code",
   "execution_count": null,
   "id": "9bfd30d8-304b-4ee0-a581-4c70adc122fc",
   "metadata": {},
   "outputs": [],
   "source": [
    "# Create a class and function, and list out the items in the list"
   ]
  },
  {
   "cell_type": "code",
   "execution_count": 1,
   "id": "53fbc7bb-f1ed-440f-b0b3-f7decd996da4",
   "metadata": {},
   "outputs": [],
   "source": [
    "class SubfieldsInAI:\n",
    "    def Subfields():\n",
    "        FieldsInAI=[\"Machine Learning\",\"Neural Networks\",\"Vision\",\"Robotics\",\"Speech Processing\",\"Natural Language Processing\"]\n",
    "        print(\"Sub-fields in AI are:\")\n",
    "        for temp in FieldsInAI:\n",
    "            print(temp)"
   ]
  },
  {
   "cell_type": "code",
   "execution_count": 3,
   "id": "5b6feebb-f4a7-407d-95c0-b55452e2b441",
   "metadata": {},
   "outputs": [
    {
     "name": "stdout",
     "output_type": "stream",
     "text": [
      "Sub-fields in AI are:\n",
      "Machine Learning\n",
      "Neural Networks\n",
      "Vision\n",
      "Robotics\n",
      "Speech Processing\n",
      "Natural Language Processing\n"
     ]
    }
   ],
   "source": [
    "SubfieldsInAI.Subfields()"
   ]
  },
  {
   "cell_type": "code",
   "execution_count": 24,
   "id": "52d57773-35fa-4a57-b556-326c8a4ce8b8",
   "metadata": {},
   "outputs": [],
   "source": [
    "# Create a function that checks whether the given number is Odd or Even"
   ]
  },
  {
   "cell_type": "code",
   "execution_count": 7,
   "id": "c0f5d90c-2830-4288-9999-bd5ef7e874a4",
   "metadata": {},
   "outputs": [
    {
     "name": "stdin",
     "output_type": "stream",
     "text": [
      "Enter a number: 52452\n"
     ]
    }
   ],
   "source": [
    "Number=int(input(\"Enter a number:\"))\n",
    "def OddEven():\n",
    "      if(Number%2==0):\n",
    "           print(Number,\"is Even number\")\n",
    "      else:\n",
    "           print(Number,\"is Odd number\")"
   ]
  },
  {
   "cell_type": "code",
   "execution_count": 9,
   "id": "1f968207-cf12-4e48-982d-0535664429ed",
   "metadata": {},
   "outputs": [
    {
     "name": "stdout",
     "output_type": "stream",
     "text": [
      "52452 is Even number\n"
     ]
    }
   ],
   "source": [
    "OddEven()"
   ]
  },
  {
   "cell_type": "code",
   "execution_count": null,
   "id": "ee7a5a34-235a-46f8-a898-20416ebffe06",
   "metadata": {},
   "outputs": [],
   "source": [
    "# Create a function that tells elegibility of marriage for male and female according to their age limit like 21 for male and 18 for female\n",
    "ElegiblityForMarriage.Elegible() "
   ]
  },
  {
   "cell_type": "code",
   "execution_count": 11,
   "id": "b3207d7d-d3b8-477a-83eb-717f7bcb7c3a",
   "metadata": {},
   "outputs": [
    {
     "name": "stdin",
     "output_type": "stream",
     "text": [
      "Your Gender: Male\n",
      "Your Age: 20\n"
     ]
    }
   ],
   "source": [
    "Gender=input(\"Your Gender:\")\n",
    "Age=int(input(\"Your Age:\"))\n",
    "class ElegiblityForMarriage:\n",
    "    def Elegible():\n",
    "        if(Gender==\"Male\" and Age>=21):\n",
    "            print(\"ELIGIBLE\")\n",
    "        elif(Gender==\"Female\" and Age>=18):\n",
    "            print(\"ELIGIBLE\")\n",
    "        else:\n",
    "            print(\"NOT ELIGIBLE\")"
   ]
  },
  {
   "cell_type": "code",
   "execution_count": 13,
   "id": "38e58a10-4f32-4fd6-93f7-65e4e427ae07",
   "metadata": {},
   "outputs": [
    {
     "name": "stdout",
     "output_type": "stream",
     "text": [
      "NOT ELIGIBLE\n"
     ]
    }
   ],
   "source": [
    "ElegiblityForMarriage.Elegible()"
   ]
  },
  {
   "cell_type": "code",
   "execution_count": null,
   "id": "343b398e-6900-460b-899f-1cf6f81026ea",
   "metadata": {},
   "outputs": [],
   "source": [
    "#calculate the percentage of your 10th mark "
   ]
  },
  {
   "cell_type": "code",
   "execution_count": 15,
   "id": "4b72d6a9-2b92-48d1-9ab3-7265d7cd66c6",
   "metadata": {},
   "outputs": [
    {
     "name": "stdin",
     "output_type": "stream",
     "text": [
      "Subject1= 98\n",
      "Subject2= 87\n",
      "Subject3= 95\n",
      "Subject4= 95\n",
      "Subject5= 93\n"
     ]
    }
   ],
   "source": [
    "S1=int(input(\"Subject1=\"))\n",
    "S2=int(input(\"Subject2=\"))\n",
    "S3=int(input(\"Subject3=\"))\n",
    "S4=int(input(\"Subject4=\"))\n",
    "S5=int(input(\"Subject5=\"))\n",
    "class FindPercent:\n",
    "    def percentage():\n",
    "        Total=S1+S2+S3+S4+S5\n",
    "        print(\"Total :\",Total)\n",
    "        Percentage=((Total/500)*100)\n",
    "        print(\"Percentage :\",Percentage)"
   ]
  },
  {
   "cell_type": "code",
   "execution_count": 17,
   "id": "53672adb-5bfe-4650-b3e6-7da662f868c2",
   "metadata": {},
   "outputs": [
    {
     "name": "stdout",
     "output_type": "stream",
     "text": [
      "Total : 468\n",
      "Percentage : 93.60000000000001\n"
     ]
    }
   ],
   "source": [
    "FindPercent.percentage()"
   ]
  },
  {
   "cell_type": "code",
   "execution_count": null,
   "id": "90aaeba5-6a3b-4609-aab0-94ac82738b83",
   "metadata": {},
   "outputs": [],
   "source": [
    "#print area and perimeter of triangle using class and functions"
   ]
  },
  {
   "cell_type": "code",
   "execution_count": 19,
   "id": "ef6124ba-16da-4a5b-99ba-fce2b361771e",
   "metadata": {},
   "outputs": [],
   "source": [
    "class triangleshape:\n",
    "    def triangleArea():\n",
    "       Height=int(input(\"Height:\"))\n",
    "       Breadth=int(input(\"Breadth:\"))\n",
    "       AreaOfTriangle=(Height*Breadth)/2\n",
    "       print(\"Area of Triangle:\",AreaOfTriangle)\n",
    "\n",
    "    def trianglePerimeter():\n",
    "       Height1=int(input(\"Height1:\")) \n",
    "       Height2=int(input(\"Height2:\"))\n",
    "       Breadth1=int(input(\"Breadth:\"))\n",
    "       Perimeter=Height1+Height2+Breadth1\n",
    "       print(\"Perimeter of Triangle:\",Perimeter)"
   ]
  },
  {
   "cell_type": "code",
   "execution_count": 21,
   "id": "6f1ab6ad-f321-40ee-a0da-7d5759d88730",
   "metadata": {},
   "outputs": [
    {
     "name": "stdin",
     "output_type": "stream",
     "text": [
      "Height: 32\n",
      "Breadth: 34\n"
     ]
    },
    {
     "name": "stdout",
     "output_type": "stream",
     "text": [
      "Area of Triangle: 544.0\n"
     ]
    },
    {
     "name": "stdin",
     "output_type": "stream",
     "text": [
      "Height1: 2\n",
      "Height2: 4\n",
      "Breadth: 4\n"
     ]
    },
    {
     "name": "stdout",
     "output_type": "stream",
     "text": [
      "Perimeter of Triangle: 10\n"
     ]
    }
   ],
   "source": [
    "triangleshape.triangleArea()\n",
    "triangleshape.trianglePerimeter()"
   ]
  },
  {
   "cell_type": "code",
   "execution_count": null,
   "id": "17fd9bd1-e57b-42e9-b641-877a6c3343bb",
   "metadata": {},
   "outputs": [],
   "source": []
  }
 ],
 "metadata": {
  "kernelspec": {
   "display_name": "Python 3 (ipykernel)",
   "language": "python",
   "name": "python3"
  },
  "language_info": {
   "codemirror_mode": {
    "name": "ipython",
    "version": 3
   },
   "file_extension": ".py",
   "mimetype": "text/x-python",
   "name": "python",
   "nbconvert_exporter": "python",
   "pygments_lexer": "ipython3",
   "version": "3.12.7"
  }
 },
 "nbformat": 4,
 "nbformat_minor": 5
}
