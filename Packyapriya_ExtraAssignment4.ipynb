{
 "cells": [
  {
   "cell_type": "code",
   "execution_count": null,
   "id": "ddd46682-57b4-447c-b990-84fc48704b34",
   "metadata": {},
   "outputs": [],
   "source": [
    " # Create a class and function, and list out the items in the list "
   ]
  },
  {
   "cell_type": "code",
   "execution_count": 146,
   "id": "f120684c-903a-4edb-9b96-d51be6afb78a",
   "metadata": {},
   "outputs": [],
   "source": [
    "SubfieldsInAI=[\"Machine Learning\",\"Neural Networks\",\"Vision\",\"Robotics\",\"Speech Processing\",\"Natural Language Processing\"]\n",
    "def Subfields():\n",
    "    print(\"Sub-fields in AI are:\")\n",
    "    for Fields in SubfieldsInAI:\n",
    "        print(Fields)"
   ]
  },
  {
   "cell_type": "code",
   "execution_count": 152,
   "id": "779e4495-7ae2-4cde-9902-b393bad8c3d4",
   "metadata": {},
   "outputs": [
    {
     "name": "stdout",
     "output_type": "stream",
     "text": [
      "Sub-fields in AI are:\n",
      "Machine Learning\n",
      "Neural Networks\n",
      "Vision\n",
      "Robotics\n",
      "Speech Processing\n",
      "Natural Language Processing\n"
     ]
    }
   ],
   "source": [
    "Subfields()"
   ]
  },
  {
   "cell_type": "code",
   "execution_count": null,
   "id": "06eafbe6-a0c1-411a-b4de-f1801991ecc3",
   "metadata": {
    "jupyter": {
     "source_hidden": true
    }
   },
   "outputs": [],
   "source": [
    "# Create a function that checks whether the given number is Odd or Even\n",
    "OddEven.OddEven() \n",
    "Enter a number: 52452 \n",
    "52452 is Even number "
   ]
  },
  {
   "cell_type": "code",
   "execution_count": 164,
   "id": "f67ff8a2-dec2-470e-8eef-91678fcc6392",
   "metadata": {},
   "outputs": [
    {
     "name": "stdin",
     "output_type": "stream",
     "text": [
      "Enter a number: 52452\n"
     ]
    }
   ],
   "source": [
    "Number=int(input(\"Enter a number:\"))\n",
    "def OddEven():\n",
    "    if (Number%2==0):\n",
    "        print(Number,\"is Even number\")\n",
    "    else:\n",
    "        print(Number,\"is Odd number\")"
   ]
  },
  {
   "cell_type": "code",
   "execution_count": 166,
   "id": "fd8617a7-da4f-4558-af4c-45d29d37af34",
   "metadata": {},
   "outputs": [
    {
     "name": "stdout",
     "output_type": "stream",
     "text": [
      "52452 is Even number\n"
     ]
    }
   ],
   "source": [
    "OddEven()"
   ]
  },
  {
   "cell_type": "code",
   "execution_count": null,
   "id": "ecde1081-dcb5-4b00-a17b-aed9ad78df19",
   "metadata": {},
   "outputs": [],
   "source": [
    "# Create a function that tells elegibility of marriage for male and female according to their age limit like 21 for male and 18 for female"
   ]
  },
  {
   "cell_type": "code",
   "execution_count": 228,
   "id": "6dc3af52-e1af-4ebd-8e4f-fba1a2d0fa22",
   "metadata": {},
   "outputs": [],
   "source": [
    "def ElegiblityForMarriageElegible(Gender,Age):\n",
    "    print(\"Your Gender:\",Gender)\n",
    "    print(\"Your Age:\",Age)\n",
    "    if(Gender==\"Male\"and Age>21):\n",
    "        print(\"ELIGIBLE\")\n",
    "    elif(Gender==\"Male\" and Age<21):\n",
    "        print(\"NOT ELIGIBLE\")\n",
    "    elif(Gender==\"Female\" and Age>18):\n",
    "        print(\"Your Gender:\",Gender)\n",
    "    elif(Gender==\"Female\" and Age<18):\n",
    "         print(\"NOT ELIGIBLE\")"
   ]
  },
  {
   "cell_type": "code",
   "execution_count": 232,
   "id": "ebbfb6ba-85d3-4eb5-b14b-513ec47688e8",
   "metadata": {},
   "outputs": [
    {
     "name": "stdout",
     "output_type": "stream",
     "text": [
      "Your Gender: Male\n",
      "Your Age: 20\n",
      "NOT ELIGIBLE\n"
     ]
    }
   ],
   "source": [
    "ElegiblityForMarriageElegible(\"Male\",20)"
   ]
  },
  {
   "cell_type": "code",
   "execution_count": null,
   "id": "1ff0777a-5e61-4767-83e4-30e1e1b8e2d0",
   "metadata": {},
   "outputs": [],
   "source": [
    "# calculate the percentage of your 10th mark "
   ]
  },
  {
   "cell_type": "code",
   "execution_count": 256,
   "id": "57cb66b4-41a6-4d48-8f35-09e3459385e3",
   "metadata": {},
   "outputs": [],
   "source": [
    "def FindPercentPercentage(S1,S2,S3,S4,S5):\n",
    "    print(\"Subject1=\",S1)\n",
    "    print(\"Subject2=\",S2)\n",
    "    print(\"Subject3=\",S3)\n",
    "    print(\"Subject4=\",S4)\n",
    "    print(\"Subject5=\",S5)\n",
    "    Total=S1+S2+S3+S4+S5\n",
    "    print(\"Total :\",Total)\n",
    "    Percentage=(Total/500)*100\n",
    "    print(\"Percentage :\",Percentage)\n"
   ]
  },
  {
   "cell_type": "code",
   "execution_count": 258,
   "id": "c2c44044-2e38-4aea-a3ea-36cd7213aa46",
   "metadata": {},
   "outputs": [
    {
     "name": "stdout",
     "output_type": "stream",
     "text": [
      "Subject1= 98\n",
      "Subject2= 87\n",
      "Subject3= 95\n",
      "Subject4= 95\n",
      "Subject5= 93\n",
      "Total : 468\n",
      "Percentage : 93.60000000000001\n"
     ]
    }
   ],
   "source": [
    "FindPercentPercentage(98,87,95,95,93)"
   ]
  },
  {
   "cell_type": "code",
   "execution_count": null,
   "id": "d28e42df-1b57-41da-bee1-0245121c938e",
   "metadata": {},
   "outputs": [],
   "source": [
    "#print area and perimeter of triangle using class and functions \n",
    "triangle.triangle() \n",
    "Height:32 \n",
    "Breadth:34 \n",
    "Area formula: (Height*Breadth)/2 \n",
    "Area of Triangle:  544.0 \n",
    "Height1:2 \n",
    "Height2:4 \n",
    "Breadth:4 \n",
    "Perimeter formula: Height1+Height2+Breadth \n",
    "Perimeter of Triangle:  10"
   ]
  },
  {
   "cell_type": "code",
   "execution_count": 296,
   "id": "8128b2ff-9d81-4e8d-96e6-f6611924fe22",
   "metadata": {},
   "outputs": [],
   "source": [
    "import math\n",
    "\n",
    "class Triangle:\n",
    "    def Parameters(Triangle,Height,Breadth,Height1,Height2,Height3):\n",
    "        Triangle.Height=Height\n",
    "        Triangle.Breadth=Breadth\n",
    "        Triangle.Height1=Height1\n",
    "        Triangle.Height2=Height2\n",
    "        Triangle.Height3=Height3\n",
    "    def Area(Triangle):\n",
    "       return (Triangle.Height*Triangle.Breadth)/2\n",
    "    def Perimeter(Triangle):\n",
    "       return (Triangle.Height1+Triangle.Height2+Triangle.Height3)"
   ]
  },
  {
   "cell_type": "code",
   "execution_count": 303,
   "id": "3ebbb4f9-4129-4283-86cb-b444a8cde95a",
   "metadata": {},
   "outputs": [
    {
     "ename": "TypeError",
     "evalue": "Triangle() takes no arguments",
     "output_type": "error",
     "traceback": [
      "\u001b[1;31m---------------------------------------------------------------------------\u001b[0m",
      "\u001b[1;31mTypeError\u001b[0m                                 Traceback (most recent call last)",
      "Cell \u001b[1;32mIn[303], line 1\u001b[0m\n\u001b[1;32m----> 1\u001b[0m tri\u001b[38;5;241m=\u001b[39mTriangle(\u001b[38;5;241m2\u001b[39m,\u001b[38;5;241m3\u001b[39m,\u001b[38;5;241m4\u001b[39m,\u001b[38;5;241m5\u001b[39m,\u001b[38;5;241m5\u001b[39m)\n\u001b[0;32m      2\u001b[0m \u001b[38;5;28mprint\u001b[39m(Triangle\u001b[38;5;241m.\u001b[39mArea())\n",
      "\u001b[1;31mTypeError\u001b[0m: Triangle() takes no arguments"
     ]
    }
   ],
   "source": [
    "tri=Triangle(2,3,4,5,5)\n",
    "print(Triangle.Area())"
   ]
  },
  {
   "cell_type": "code",
   "execution_count": null,
   "id": "ba41095f-1647-462d-8422-92e37b13b0bb",
   "metadata": {},
   "outputs": [],
   "source": []
  }
 ],
 "metadata": {
  "kernelspec": {
   "display_name": "Python 3 (ipykernel)",
   "language": "python",
   "name": "python3"
  },
  "language_info": {
   "codemirror_mode": {
    "name": "ipython",
    "version": 3
   },
   "file_extension": ".py",
   "mimetype": "text/x-python",
   "name": "python",
   "nbconvert_exporter": "python",
   "pygments_lexer": "ipython3",
   "version": "3.12.7"
  }
 },
 "nbformat": 4,
 "nbformat_minor": 5
}
