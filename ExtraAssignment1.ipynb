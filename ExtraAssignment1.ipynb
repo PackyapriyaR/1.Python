{
 "cells": [
  {
   "cell_type": "code",
   "execution_count": null,
   "id": "5beffa2c-7ba7-4ae4-ae5d-b6ccfb0f34d6",
   "metadata": {},
   "outputs": [],
   "source": [
    "#print Statement "
   ]
  },
  {
   "cell_type": "code",
   "execution_count": 1,
   "id": "43e581cf-2702-46fb-ae17-b6ec2187001d",
   "metadata": {},
   "outputs": [
    {
     "name": "stdout",
     "output_type": "stream",
     "text": [
      "HOPE AI\n"
     ]
    }
   ],
   "source": [
    "print(\"HOPE AI\")"
   ]
  },
  {
   "cell_type": "code",
   "execution_count": null,
   "id": "d19117b7-12cb-4bed-a5b4-6a72ec104cbf",
   "metadata": {},
   "outputs": [],
   "source": [
    " # Buy input"
   ]
  },
  {
   "cell_type": "code",
   "execution_count": 3,
   "id": "5b40225d-cac2-4fb2-80db-bfd09fad9e74",
   "metadata": {},
   "outputs": [
    {
     "name": "stdin",
     "output_type": "stream",
     "text": [
      "Enter your institute name? : HOPE AI\n"
     ]
    }
   ],
   "source": [
    "InstituteName=input(\"Enter your institute name? :\")"
   ]
  },
  {
   "cell_type": "code",
   "execution_count": null,
   "id": "b4e22219-de26-4a27-a797-ab23f16450e6",
   "metadata": {},
   "outputs": [],
   "source": [
    "#Buy inputs "
   ]
  },
  {
   "cell_type": "code",
   "execution_count": 5,
   "id": "16f608fe-6bf4-4d54-8954-1768f81d2188",
   "metadata": {},
   "outputs": [
    {
     "name": "stdin",
     "output_type": "stream",
     "text": [
      "Enter your name: Raj\n",
      "Enter your age: 15\n",
      "Enter your school name: Guru School\n",
      "Enter your degree: B.E CSE\n"
     ]
    }
   ],
   "source": [
    "Name=input(\"Enter your name:\")\n",
    "Age=int(input(\"Enter your age:\"))\n",
    "SchoolName=input(\"Enter your school name:\") \n",
    "Degree=input(\"Enter your degree:\")"
   ]
  },
  {
   "cell_type": "code",
   "execution_count": null,
   "id": "5a8558a9-1f38-4d11-8754-603df36249ac",
   "metadata": {},
   "outputs": [],
   "source": [
    "#Addition"
   ]
  },
  {
   "cell_type": "code",
   "execution_count": 13,
   "id": "58bc8360-eba7-419b-aa3a-edcfa46fb905",
   "metadata": {},
   "outputs": [
    {
     "name": "stdout",
     "output_type": "stream",
     "text": [
      "a= 43\n",
      "b= 34\n",
      "add = 77\n"
     ]
    }
   ],
   "source": [
    "a=43 \n",
    "print(\"a=\",a)\n",
    "b=34 \n",
    "print(\"b=\",b)\n",
    "add=a+b\n",
    "print(\"add =\",add) "
   ]
  },
  {
   "cell_type": "code",
   "execution_count": null,
   "id": "813ffb55-ff17-4c27-938e-f95506a41ad7",
   "metadata": {},
   "outputs": [],
   "source": [
    "#Subtraction"
   ]
  },
  {
   "cell_type": "code",
   "execution_count": 11,
   "id": "e8f5cb41-6271-4445-b779-257a62ac183c",
   "metadata": {},
   "outputs": [
    {
     "name": "stdout",
     "output_type": "stream",
     "text": [
      "a= 43\n",
      "b= 34\n",
      "Sub = 9\n"
     ]
    }
   ],
   "source": [
    "a= 43\n",
    "print(\"a=\",a)\n",
    "b= 34 \n",
    "print(\"b=\",b)\n",
    "Sub=a-b\n",
    "print(\"Sub =\",Sub)"
   ]
  },
  {
   "cell_type": "code",
   "execution_count": null,
   "id": "b8790d73-a4de-4708-b0f4-4cbadf9b0a28",
   "metadata": {},
   "outputs": [],
   "source": [
    "#Multiplication"
   ]
  },
  {
   "cell_type": "code",
   "execution_count": 15,
   "id": "bb61d725-586e-448b-9622-17688287d805",
   "metadata": {},
   "outputs": [
    {
     "name": "stdout",
     "output_type": "stream",
     "text": [
      "a= 63\n",
      "b= 97\n",
      "Mul = 6111\n"
     ]
    }
   ],
   "source": [
    "a= 63 \n",
    "print(\"a=\",a)\n",
    "b= 97 \n",
    "print(\"b=\",b)\n",
    "Mul=a*b\n",
    "print(\"Mul =\",Mul)"
   ]
  },
  {
   "cell_type": "code",
   "execution_count": null,
   "id": "f408d9bb-d7c9-473f-9469-d1b6c67a14d1",
   "metadata": {},
   "outputs": [],
   "source": [
    "#Division"
   ]
  },
  {
   "cell_type": "code",
   "execution_count": 23,
   "id": "f5c6933c-9dc3-4288-8eb3-4c7d24d7eb98",
   "metadata": {},
   "outputs": [
    {
     "name": "stdout",
     "output_type": "stream",
     "text": [
      "a= 76\n",
      "b= 31\n",
      "Float Div = 2.4516129032258065\n"
     ]
    }
   ],
   "source": [
    "a= 76 \n",
    "print(\"a=\",a)\n",
    "b= 31 \n",
    "print(\"b=\",b)\n",
    "Div=a/b\n",
    "print(\"Float Div =\",Div)"
   ]
  },
  {
   "cell_type": "code",
   "execution_count": null,
   "id": "cc645793-93cb-4aff-aaf9-1dc457ed3262",
   "metadata": {},
   "outputs": [],
   "source": [
    "#Floor division"
   ]
  },
  {
   "cell_type": "code",
   "execution_count": 41,
   "id": "0ceb51a0-a71a-46fa-8741-b26739fcec68",
   "metadata": {},
   "outputs": [
    {
     "name": "stdout",
     "output_type": "stream",
     "text": [
      "a= 76\n",
      "b= 31\n",
      "Floor Div = 2\n"
     ]
    }
   ],
   "source": [
    "a= 76 \n",
    "print(\"a=\",a)\n",
    "b= 31 \n",
    "print(\"b=\",b)\n",
    "FloorDiv=a//b\n",
    "print(\"Floor Div =\",FloorDiv) "
   ]
  },
  {
   "cell_type": "code",
   "execution_count": null,
   "id": "bce5e091-d653-42a7-8728-f90b34cf5c40",
   "metadata": {},
   "outputs": [],
   "source": [
    "#Modulo"
   ]
  },
  {
   "cell_type": "code",
   "execution_count": 43,
   "id": "a4ea8efc-f7dd-44b1-9a12-585d1e995287",
   "metadata": {},
   "outputs": [
    {
     "name": "stdout",
     "output_type": "stream",
     "text": [
      "a= 76\n",
      "b= 31\n",
      "Modulo = 14\n"
     ]
    }
   ],
   "source": [
    "a= 76 \n",
    "print(\"a=\",a)\n",
    "b= 31 \n",
    "print(\"b=\",b)\n",
    "Modulo=a%b\n",
    "print(\"Modulo =\",Modulo) "
   ]
  },
  {
   "cell_type": "code",
   "execution_count": null,
   "id": "116db3cd-d41a-4528-99ee-902bc33607b5",
   "metadata": {},
   "outputs": [],
   "source": [
    "#Power"
   ]
  },
  {
   "cell_type": "code",
   "execution_count": 39,
   "id": "a4d7563f-7b7c-437c-8b8e-df79827707cb",
   "metadata": {},
   "outputs": [
    {
     "name": "stdout",
     "output_type": "stream",
     "text": [
      "a= 4\n",
      "b= 4\n",
      "Power = 256\n"
     ]
    }
   ],
   "source": [
    "a= 4\n",
    "print(\"a=\",a)\n",
    "b= 4 \n",
    "print(\"b=\",b)\n",
    "Power=pow(4,4)\n",
    "print(\"Power =\",Power) "
   ]
  },
  {
   "cell_type": "code",
   "execution_count": null,
   "id": "2c4b197f-6d5d-4532-bfe2-4c7a0c43d92e",
   "metadata": {},
   "outputs": [],
   "source": []
  }
 ],
 "metadata": {
  "kernelspec": {
   "display_name": "Python 3 (ipykernel)",
   "language": "python",
   "name": "python3"
  },
  "language_info": {
   "codemirror_mode": {
    "name": "ipython",
    "version": 3
   },
   "file_extension": ".py",
   "mimetype": "text/x-python",
   "name": "python",
   "nbconvert_exporter": "python",
   "pygments_lexer": "ipython3",
   "version": "3.12.7"
  }
 },
 "nbformat": 4,
 "nbformat_minor": 5
}
