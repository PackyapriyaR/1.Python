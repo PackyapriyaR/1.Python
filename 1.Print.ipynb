{
 "cells": [
  {
   "cell_type": "raw",
   "id": "492c5722-4c67-4f6c-a0d2-07f70f27825b",
   "metadata": {},
   "source": [
    "print()"
   ]
  },
  {
   "cell_type": "code",
   "execution_count": null,
   "id": "05287814-653f-424f-9ef4-c54eb02ea424",
   "metadata": {},
   "outputs": [],
   "source": []
  },
  {
   "cell_type": "code",
   "execution_count": null,
   "id": "8698f7a7-6262-4795-89a3-5e64e75850e4",
   "metadata": {},
   "outputs": [],
   "source": [
    "print(\"Welcome to Hope AI\")"
   ]
  },
  {
   "cell_type": "code",
   "execution_count": null,
   "id": "9d1c9f54-e2a0-4c87-992e-d6870f5e652e",
   "metadata": {},
   "outputs": [],
   "source": [
    "print(\"1234&&&&\")"
   ]
  },
  {
   "cell_type": "code",
   "execution_count": null,
   "id": "e6083fd2-10f3-4e4e-b34f-0430bc0ccd3d",
   "metadata": {},
   "outputs": [],
   "source": [
    "Print(\"hello\")"
   ]
  },
  {
   "cell_type": "code",
   "execution_count": 1,
   "id": "6df47cae-9e63-47c0-bb28-8bb91ed1aebd",
   "metadata": {},
   "outputs": [
    {
     "name": "stdout",
     "output_type": "stream",
     "text": [
      "Tuesday\n"
     ]
    }
   ],
   "source": [
    "print(\"Tuesday\")\n"
   ]
  },
  {
   "cell_type": "code",
   "execution_count": 5,
   "id": "af95c74b-8b19-4b98-822c-40800d453528",
   "metadata": {},
   "outputs": [
    {
     "ename": "SyntaxError",
     "evalue": "unterminated string literal (detected at line 1) (2211548624.py, line 1)",
     "output_type": "error",
     "traceback": [
      "\u001b[1;36m  Cell \u001b[1;32mIn[5], line 1\u001b[1;36m\u001b[0m\n\u001b[1;33m    print=(\"Tuesday\"')\u001b[0m\n\u001b[1;37m                    ^\u001b[0m\n\u001b[1;31mSyntaxError\u001b[0m\u001b[1;31m:\u001b[0m unterminated string literal (detected at line 1)\n"
     ]
    }
   ],
   "source": [
    "print=(\"Tuesday\"')"
   ]
  },
  {
   "cell_type": "code",
   "execution_count": 9,
   "id": "756db542-0f14-4616-b73e-25d8fc52ed9e",
   "metadata": {},
   "outputs": [],
   "source": [
    "print=('Tuesday')"
   ]
  },
  {
   "cell_type": "code",
   "execution_count": 11,
   "id": "857f466c-3a2f-4bab-9194-08a5c433d572",
   "metadata": {},
   "outputs": [
    {
     "ename": "NameError",
     "evalue": "name 'Tuesday' is not defined",
     "output_type": "error",
     "traceback": [
      "\u001b[1;31m---------------------------------------------------------------------------\u001b[0m",
      "\u001b[1;31mNameError\u001b[0m                                 Traceback (most recent call last)",
      "Cell \u001b[1;32mIn[11], line 1\u001b[0m\n\u001b[1;32m----> 1\u001b[0m \u001b[38;5;28mprint\u001b[39m(Tuesday)\n",
      "\u001b[1;31mNameError\u001b[0m: name 'Tuesday' is not defined"
     ]
    }
   ],
   "source": [
    "print(Tuesday)"
   ]
  },
  {
   "cell_type": "code",
   "execution_count": null,
   "id": "dc2e1940-9753-43cf-a21f-6216ec2ebfa8",
   "metadata": {},
   "outputs": [],
   "source": []
  }
 ],
 "metadata": {
  "kernelspec": {
   "display_name": "Python 3 (ipykernel)",
   "language": "python",
   "name": "python3"
  },
  "language_info": {
   "codemirror_mode": {
    "name": "ipython",
    "version": 3
   },
   "file_extension": ".py",
   "mimetype": "text/x-python",
   "name": "python",
   "nbconvert_exporter": "python",
   "pygments_lexer": "ipython3",
   "version": "3.12.7"
  }
 },
 "nbformat": 4,
 "nbformat_minor": 5
}
