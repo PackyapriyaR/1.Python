{
 "cells": [
  {
   "cell_type": "code",
   "execution_count": null,
   "id": "ee714c75-67a7-424d-b394-8340ddae11e1",
   "metadata": {},
   "outputs": [],
   "source": [
    " # print 0 to 20 by using range"
   ]
  },
  {
   "cell_type": "code",
   "execution_count": 27,
   "id": "5d90ce27-9d3a-40aa-9139-e1c2425ee467",
   "metadata": {},
   "outputs": [
    {
     "name": "stdout",
     "output_type": "stream",
     "text": [
      "0\n",
      "1\n",
      "2\n",
      "3\n",
      "4\n",
      "5\n",
      "6\n",
      "7\n",
      "8\n",
      "9\n",
      "10\n",
      "11\n",
      "12\n",
      "13\n",
      "14\n",
      "15\n",
      "16\n",
      "17\n",
      "18\n",
      "19\n"
     ]
    }
   ],
   "source": [
    "for Temp in range(0,20):\n",
    "    print(Temp)"
   ]
  },
  {
   "cell_type": "code",
   "execution_count": null,
   "id": "38ffb676-1e03-468e-b712-548336aa7a3d",
   "metadata": {},
   "outputs": [],
   "source": [
    "# print range 10 to 20 "
   ]
  },
  {
   "cell_type": "code",
   "execution_count": 31,
   "id": "b8b33d44-575d-436a-9559-8e7434df619c",
   "metadata": {},
   "outputs": [
    {
     "name": "stdout",
     "output_type": "stream",
     "text": [
      "10 11 12 13 14 15 16 17 18 19 "
     ]
    }
   ],
   "source": [
    "for Temp in range(10,20):\n",
    "    print(Temp,end=\" \")"
   ]
  },
  {
   "cell_type": "code",
   "execution_count": null,
   "id": "76d7fa32-f90a-4273-9c76-c5d61a89ffc6",
   "metadata": {},
   "outputs": [],
   "source": [
    " # Print number of items in the list by using 'len' "
   ]
  },
  {
   "cell_type": "code",
   "execution_count": 43,
   "id": "1222be8a-2c48-4093-80e5-2171fbf9ac64",
   "metadata": {},
   "outputs": [
    {
     "name": "stdout",
     "output_type": "stream",
     "text": [
      "[10, 20, 14, 55, 43, 87, 76]\n",
      "Number of item in the List2:\n",
      "7\n"
     ]
    }
   ],
   "source": [
    "List2=[10, 20, 14, 55, 43, 87, 76] \n",
    "print(List2)\n",
    "Count=len(List2)\n",
    "print(\"Number of item in the List2:\")\n",
    "print(Count)"
   ]
  },
  {
   "cell_type": "code",
   "execution_count": 55,
   "id": "6583cc25-6f90-4099-88d4-68c84f5ea901",
   "metadata": {},
   "outputs": [
    {
     "name": "stdout",
     "output_type": "stream",
     "text": [
      "Artificial Intelligence\n",
      "A\n",
      "r\n",
      "t\n",
      "i\n",
      "f\n",
      "i\n",
      "c\n",
      "i\n",
      "a\n",
      "l\n",
      " \n",
      "I\n",
      "n\n",
      "t\n",
      "e\n",
      "l\n",
      "l\n",
      "i\n",
      "g\n",
      "e\n",
      "n\n",
      "c\n",
      "e\n"
     ]
    }
   ],
   "source": [
    "print(\"Artificial Intelligence\")\n",
    "for TempCount in \"Artificial Intelligence\":\n",
    "        print(TempCount)"
   ]
  },
  {
   "cell_type": "code",
   "execution_count": 59,
   "id": "11c6e833-5fd7-4581-a5e5-a6f67f7a0a7b",
   "metadata": {},
   "outputs": [
    {
     "name": "stdout",
     "output_type": "stream",
     "text": [
      "Packyapriya R\n",
      "36\n",
      "Business Development Manager\n"
     ]
    }
   ],
   "source": [
    "print(\"Packyapriya R\")\n",
    "print(\"36\")\n",
    "print(\"Business Development Manager\")"
   ]
  },
  {
   "cell_type": "code",
   "execution_count": null,
   "id": "566823b9-6d9b-4147-b0c4-4d46344a7e6b",
   "metadata": {},
   "outputs": [],
   "source": [
    "# Refer this link : https://www.geeksforgeeks.org/python-tuples/ \n",
    "# Print yhis mixered datatype using Tuples"
   ]
  },
  {
   "cell_type": "code",
   "execution_count": 61,
   "id": "65a8c8eb-b100-4998-954b-d975800758b0",
   "metadata": {},
   "outputs": [
    {
     "name": "stdout",
     "output_type": "stream",
     "text": [
      "(1, 'Welcome', 2, 'Hope')\n"
     ]
    }
   ],
   "source": [
    "Tuple1=(1, 'Welcome', 2, 'Hope')\n",
    "print(Tuple1)"
   ]
  },
  {
   "cell_type": "code",
   "execution_count": 77,
   "id": "b56dc7ea-daa1-4cfe-be44-0e70e8fd0be8",
   "metadata": {},
   "outputs": [],
   "source": [
    "# Refer this link : https://www.geeksforgeeks.org/python-tuples/ "
   ]
  },
  {
   "cell_type": "code",
   "execution_count": 99,
   "id": "37985f14-fe4f-4329-96b8-a39d20833b1d",
   "metadata": {},
   "outputs": [
    {
     "name": "stdout",
     "output_type": "stream",
     "text": [
      "((0, 1, 2, 3), ('python', 'HOPE'))\n"
     ]
    }
   ],
   "source": [
    "Tuple1=(0, 1, 2, 3) \n",
    "Tuple2=('python','HOPE')\n",
    "print((Tuple1,Tuple2))"
   ]
  },
  {
   "cell_type": "code",
   "execution_count": null,
   "id": "4a68f8f9-6a88-4d55-b3a0-4394d5d78bb6",
   "metadata": {},
   "outputs": [],
   "source": [
    "# print Odd Numbers in the list "
   ]
  },
  {
   "cell_type": "code",
   "execution_count": 107,
   "id": "56ca8e1c-d83c-4186-8f66-d0f353bb36a2",
   "metadata": {},
   "outputs": [
    {
     "name": "stdout",
     "output_type": "stream",
     "text": [
      "19  is odd\n",
      "25  is odd\n",
      "1  is odd\n"
     ]
    }
   ],
   "source": [
    "for Temp in (20,10,16,19,25,1,276,188):\n",
    "    if(Temp%2>0):\n",
    "        print(Temp,\" is odd\")"
   ]
  },
  {
   "cell_type": "code",
   "execution_count": null,
   "id": "4debc424-ae28-426a-b01a-5438ea1aa812",
   "metadata": {},
   "outputs": [],
   "source": [
    "# print Even numbers in the list "
   ]
  },
  {
   "cell_type": "code",
   "execution_count": 109,
   "id": "5b2cd13b-9970-45b0-8a48-e2d0c1952bef",
   "metadata": {},
   "outputs": [
    {
     "name": "stdout",
     "output_type": "stream",
     "text": [
      "20  is even\n",
      "10  is even\n",
      "16  is even\n",
      "276  is even\n",
      "188  is even\n"
     ]
    }
   ],
   "source": [
    "for Temp in (20,10,16,19,25,1,276,188) :\n",
    "    if(Temp%2==0):\n",
    "        print(Temp,\" is even\")"
   ]
  },
  {
   "cell_type": "code",
   "execution_count": null,
   "id": "679335c3-1bd7-438d-b25f-49c3d8fd939c",
   "metadata": {},
   "outputs": [],
   "source": []
  }
 ],
 "metadata": {
  "kernelspec": {
   "display_name": "Python 3 (ipykernel)",
   "language": "python",
   "name": "python3"
  },
  "language_info": {
   "codemirror_mode": {
    "name": "ipython",
    "version": 3
   },
   "file_extension": ".py",
   "mimetype": "text/x-python",
   "name": "python",
   "nbconvert_exporter": "python",
   "pygments_lexer": "ipython3",
   "version": "3.12.7"
  }
 },
 "nbformat": 4,
 "nbformat_minor": 5
}
