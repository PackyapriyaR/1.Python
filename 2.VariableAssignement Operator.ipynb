{
 "cells": [
  {
   "cell_type": "code",
   "execution_count": 3,
   "id": "443d63cd-852d-4f8a-b80f-9c4510c73e2d",
   "metadata": {},
   "outputs": [
    {
     "name": "stdout",
     "output_type": "stream",
     "text": [
      "Addition of 2 numbers\n",
      "Number 1 is: 10\n",
      "Number 2 is: 30\n",
      "Answer is 40\n"
     ]
    }
   ],
   "source": [
    "print(\"Addition of 2 numbers\")\n",
    "number1=10\n",
    "print(\"Number 1 is:\",number1)\n",
    "number2=30\n",
    "print(\"Number 2 is:\",number2)\n",
    "add=number1+number2\n",
    "print(\"Answer is\",add)"
   ]
  },
  {
   "cell_type": "code",
   "execution_count": null,
   "id": "e13eed4c-0494-4281-aecd-3f4c8d721f0e",
   "metadata": {},
   "outputs": [],
   "source": []
  }
 ],
 "metadata": {
  "kernelspec": {
   "display_name": "Python 3 (ipykernel)",
   "language": "python",
   "name": "python3"
  },
  "language_info": {
   "codemirror_mode": {
    "name": "ipython",
    "version": 3
   },
   "file_extension": ".py",
   "mimetype": "text/x-python",
   "name": "python",
   "nbconvert_exporter": "python",
   "pygments_lexer": "ipython3",
   "version": "3.12.7"
  }
 },
 "nbformat": 4,
 "nbformat_minor": 5
}
