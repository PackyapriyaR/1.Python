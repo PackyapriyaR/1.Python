{
 "cells": [
  {
   "cell_type": "code",
   "execution_count": 7,
   "id": "1347f009-8ac4-4c68-a5e8-8fddad411937",
   "metadata": {},
   "outputs": [
    {
     "name": "stdout",
     "output_type": "stream",
     "text": [
      "Welcome to Digital Logic Trainer!\n"
     ]
    },
    {
     "name": "stdin",
     "output_type": "stream",
     "text": [
      "Choose a logic gate (AND, OR, NOT, XOR): AND\n",
      "Enter input A (0 or 1): 1\n",
      "Enter input B (0 or 1): 0\n"
     ]
    }
   ],
   "source": [
    "print(\"Welcome to Digital Logic Trainer!\")\n",
    "LogicGate=input(\"Choose a logic gate (AND, OR, NOT, XOR):\").upper()\n",
    "if(LogicGate==\"NOT\"):\n",
    "    InputA=int(input(\"Enter input A (0 or 1):\"))\n",
    "    Output=1-InputA\n",
    "else:\n",
    "    InputA=int(input(\"Enter input A (0 or 1):\"))\n",
    "    InputB=int(input(\"Enter input B (0 or 1):\"))\n",
    "    if(LogicGate==\"AND\"):\n",
    "        Output=InputA & InputB\n",
    "    elif(LogicGate==\"OR\"):\n",
    "        Output=InputA | InputB\n",
    "    elif(LogicGate==\"XOR\"):\n",
    "        Output=InputA ^ InputB\n",
    "    elif(LogicGate==\"NOT\"):\n",
    "        Output=InputA - InputB"
   ]
  },
  {
   "cell_type": "code",
   "execution_count": 8,
   "id": "373071df-e646-409f-968d-e3a3be36e295",
   "metadata": {},
   "outputs": [],
   "source": [
    "from DigitalLogicTrainerUserDefined import TruthTable"
   ]
  },
  {
   "cell_type": "code",
   "execution_count": 9,
   "id": "d1dc97ce-7e0a-41bb-953e-24743f6912f7",
   "metadata": {},
   "outputs": [
    {
     "name": "stdout",
     "output_type": "stream",
     "text": [
      "AND ( 1 0 )= 0\n",
      "Truth Table:\n",
      "A | B | Output\n",
      "0 | 0 | 0\n",
      "0 | 1 | 0\n",
      "1 | 0 | 0\n",
      "1 | 1 | 1\n"
     ]
    }
   ],
   "source": [
    "if(LogicGate==\"AND\"):\n",
    "    print(LogicGate,'(',InputA,InputB,')=',Output)\n",
    "    print(\"Truth Table:\")\n",
    "    print(\"A | B | Output\")\n",
    "    TruthTable.ANDTable()\n",
    "elif(LogicGate==\"OR\"):\n",
    "    print(LogicGate,'(',InputA,InputB,')=',Output)\n",
    "    print(\"Truth Table:\")\n",
    "    print(\"A | B | Output\")\n",
    "    TruthTable.ORTable()\n",
    "elif(LogicGate==\"XOR\"):\n",
    "    print(LogicGate,'(',InputA,InputB,')=',Output)\n",
    "    print(\"Truth Table:\")\n",
    "    print(\"A | B | Output\")\n",
    "    TruthTable.XORTable()\n",
    "elif(LogicGate==\"NOT\"):\n",
    "    print(LogicGate,'(',InputA,')=',Output)\n",
    "    print(\"Truth Table is not applicable\")"
   ]
  },
  {
   "cell_type": "code",
   "execution_count": null,
   "id": "e9d7593c-40d9-46f3-a2c3-d2dc3bcf1323",
   "metadata": {},
   "outputs": [],
   "source": []
  },
  {
   "cell_type": "code",
   "execution_count": null,
   "id": "78a07d02-6fd7-451b-8657-9f8650567b94",
   "metadata": {},
   "outputs": [],
   "source": []
  }
 ],
 "metadata": {
  "kernelspec": {
   "display_name": "Python [conda env:base] *",
   "language": "python",
   "name": "conda-base-py"
  },
  "language_info": {
   "codemirror_mode": {
    "name": "ipython",
    "version": 3
   },
   "file_extension": ".py",
   "mimetype": "text/x-python",
   "name": "python",
   "nbconvert_exporter": "python",
   "pygments_lexer": "ipython3",
   "version": "3.13.5"
  }
 },
 "nbformat": 4,
 "nbformat_minor": 5
}
