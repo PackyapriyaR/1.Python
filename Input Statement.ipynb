{
 "cells": [
  {
   "cell_type": "code",
   "execution_count": null,
   "id": "37d5f565-c478-461b-b8ce-66e36f256b72",
   "metadata": {},
   "outputs": [],
   "source": [
    "Num1=int(input(\"Enter Number 1:\"))"
   ]
  },
  {
   "cell_type": "code",
   "execution_count": null,
   "id": "20c01639-bef5-4ff5-ab68-90b651dbde58",
   "metadata": {},
   "outputs": [],
   "source": [
    "Num2=int(input(\"Enter Number 2:\"))"
   ]
  },
  {
   "cell_type": "code",
   "execution_count": null,
   "id": "3d0d657b-9e74-4765-bfa8-3593c3e3bcc2",
   "metadata": {},
   "outputs": [],
   "source": [
    "add=Num1+Num2\n",
    "print(add)\n",
    "print(\"add\")"
   ]
  },
  {
   "cell_type": "code",
   "execution_count": 1,
   "id": "f4bf1233-952e-4b57-8306-8edf693ed0c5",
   "metadata": {},
   "outputs": [
    {
     "name": "stdout",
     "output_type": "stream",
     "text": [
      "Second Mid Term Test - Marks\n"
     ]
    },
    {
     "name": "stdin",
     "output_type": "stream",
     "text": [
      "Student Name :  Natasha\n",
      "Maths :  100\n",
      "Tamil :  98\n",
      "Science :  96\n",
      "Social :  97\n",
      "English :  98\n"
     ]
    },
    {
     "name": "stdout",
     "output_type": "stream",
     "text": [
      "Total Marks Scored by  Natasha is 489\n",
      "Average Marks Scored by  Natasha is 97.8\n"
     ]
    }
   ],
   "source": [
    "print(\"Second Mid Term Test - Marks\")\n",
    "StudentName=input(\"Student Name : \")\n",
    "Maths=int(input(\"Maths : \"))\n",
    "Tamil=int(input(\"Tamil : \"))\n",
    "Science=int(input(\"Science : \"))\n",
    "Social=int(input(\"Social : \"))\n",
    "English=int(input(\"English : \"))\n",
    "Total=Maths+Tamil+Science+Social+English\n",
    "Average=Total/5\n",
    "print(\"Total Marks Scored by \",StudentName,\"is\",Total)\n",
    "print(\"Average Marks Scored by \",StudentName,\"is\",Average)"
   ]
  },
  {
   "cell_type": "code",
   "execution_count": 3,
   "id": "ed8c262b-39f9-4152-ae77-bfe071b0855f",
   "metadata": {},
   "outputs": [
    {
     "name": "stdout",
     "output_type": "stream",
     "text": [
      "priya\n"
     ]
    }
   ],
   "source": [
    "print('priya')"
   ]
  },
  {
   "cell_type": "code",
   "execution_count": 5,
   "id": "5aad80c6-f3ce-4b1e-8268-a888edb54210",
   "metadata": {},
   "outputs": [
    {
     "name": "stdout",
     "output_type": "stream",
     "text": [
      "'priya'\n"
     ]
    }
   ],
   "source": [
    "print(\"'priya'\")"
   ]
  },
  {
   "cell_type": "code",
   "execution_count": null,
   "id": "807152fe-2e52-4895-9eb8-cfafb911bd07",
   "metadata": {},
   "outputs": [],
   "source": []
  }
 ],
 "metadata": {
  "kernelspec": {
   "display_name": "Python 3 (ipykernel)",
   "language": "python",
   "name": "python3"
  },
  "language_info": {
   "codemirror_mode": {
    "name": "ipython",
    "version": 3
   },
   "file_extension": ".py",
   "mimetype": "text/x-python",
   "name": "python",
   "nbconvert_exporter": "python",
   "pygments_lexer": "ipython3",
   "version": "3.12.7"
  }
 },
 "nbformat": 4,
 "nbformat_minor": 5
}
