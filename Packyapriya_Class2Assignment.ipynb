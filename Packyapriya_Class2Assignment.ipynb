{
 "cells": [
  {
   "cell_type": "code",
   "execution_count": 3,
   "id": "c6e91167-fb7e-4911-a49d-900781eb1666",
   "metadata": {},
   "outputs": [],
   "source": [
    "from PackyapriyaUserDefined import MultipleFunctions\n",
    "#from filename import classname"
   ]
  },
  {
   "cell_type": "code",
   "execution_count": 5,
   "id": "51c2fd06-d580-4bf2-b7af-a4789bec6716",
   "metadata": {},
   "outputs": [
    {
     "name": "stdin",
     "output_type": "stream",
     "text": [
      "Your Gender: Male\n",
      "Your Age 20\n"
     ]
    },
    {
     "name": "stdout",
     "output_type": "stream",
     "text": [
      "NOT ELIGIBLE\n"
     ]
    }
   ],
   "source": [
    "MultipleFunctions.Elegible()"
   ]
  },
  {
   "cell_type": "code",
   "execution_count": 7,
   "id": "a59215b1-50b5-4e92-8cef-68be0d36d8e5",
   "metadata": {},
   "outputs": [
    {
     "name": "stdin",
     "output_type": "stream",
     "text": [
      "Enter a number: 34\n"
     ]
    },
    {
     "name": "stdout",
     "output_type": "stream",
     "text": [
      "34 is Even number\n"
     ]
    }
   ],
   "source": [
    "MultipleFunctions.OddEven()"
   ]
  },
  {
   "cell_type": "code",
   "execution_count": null,
   "id": "d21fdaac-1ea1-4b8b-b26d-ab13fb4feb8c",
   "metadata": {},
   "outputs": [],
   "source": []
  }
 ],
 "metadata": {
  "kernelspec": {
   "display_name": "Python 3 (ipykernel)",
   "language": "python",
   "name": "python3"
  },
  "language_info": {
   "codemirror_mode": {
    "name": "ipython",
    "version": 3
   },
   "file_extension": ".py",
   "mimetype": "text/x-python",
   "name": "python",
   "nbconvert_exporter": "python",
   "pygments_lexer": "ipython3",
   "version": "3.12.7"
  }
 },
 "nbformat": 4,
 "nbformat_minor": 5
}
