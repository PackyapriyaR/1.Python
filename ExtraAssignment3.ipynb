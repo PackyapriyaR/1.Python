{
 "cells": [
  {
   "cell_type": "code",
   "execution_count": null,
   "id": "b229346d-800f-4ddd-9bc6-7e4b5df3feb3",
   "metadata": {},
   "outputs": [],
   "source": [
    "# print 'CORRECT' if i == 10"
   ]
  },
  {
   "cell_type": "code",
   "execution_count": 2,
   "id": "0bef1f13-5a66-44db-8c75-9e418cb309cb",
   "metadata": {},
   "outputs": [
    {
     "name": "stdout",
     "output_type": "stream",
     "text": [
      "value: 10\n",
      "Corret\n"
     ]
    }
   ],
   "source": [
    "i=10\n",
    "print(\"value:\",i)\n",
    "if(i==10):\n",
    "    print(\"Corret\")"
   ]
  },
  {
   "cell_type": "code",
   "execution_count": null,
   "id": "16370642-f7a7-4c6b-a586-14fffcd83ff1",
   "metadata": {},
   "outputs": [],
   "source": [
    "# Check the password, using if and else"
   ]
  },
  {
   "cell_type": "code",
   "execution_count": 12,
   "id": "1706edfc-0eb1-41fa-a83e-e7aecaa1d635",
   "metadata": {},
   "outputs": [
    {
     "name": "stdin",
     "output_type": "stream",
     "text": [
      "Enter the password: HOPE@123\n"
     ]
    },
    {
     "name": "stdout",
     "output_type": "stream",
     "text": [
      "Your password is correct\n"
     ]
    }
   ],
   "source": [
    "password=input(\"Enter the password:\")\n",
    "if(password==\"HOPE@123\"):\n",
    "    print(\"Your password is correct\")"
   ]
  },
  {
   "cell_type": "code",
   "execution_count": null,
   "id": "1cdcef06-cd8f-4853-981d-ccf410b36aa2",
   "metadata": {},
   "outputs": [],
   "source": [
    "# Catagory the people by their age like children, adult, citizen, senior citizen...\n",
    " "
   ]
  },
  {
   "cell_type": "code",
   "execution_count": 20,
   "id": "c6ae0385-40ad-474e-9975-3c7a4bef53c9",
   "metadata": {},
   "outputs": [
    {
     "name": "stdin",
     "output_type": "stream",
     "text": [
      "age:  20\n"
     ]
    },
    {
     "name": "stdout",
     "output_type": "stream",
     "text": [
      "Adult\n"
     ]
    }
   ],
   "source": [
    "Age=int(input(\"age: \"))\n",
    "if(Age<18):\n",
    "    print(\"Children\")\n",
    "elif(Age<35):\n",
    "    print(\"Adult\")\n",
    "elif(Age<59):\n",
    "    print(\"Citizen\")\n",
    "else:\n",
    "    print(\"Senior Citizen\")"
   ]
  },
  {
   "cell_type": "code",
   "execution_count": null,
   "id": "47b8798f-bd10-49c6-84bb-97dfb6d1b934",
   "metadata": {},
   "outputs": [],
   "source": [
    " # Find whether given number is positive or negative "
   ]
  },
  {
   "cell_type": "code",
   "execution_count": 38,
   "id": "65448cb0-2ce0-45c0-9575-3fc0b0352e31",
   "metadata": {},
   "outputs": [
    {
     "name": "stdin",
     "output_type": "stream",
     "text": [
      "Enter any number: 1\n"
     ]
    },
    {
     "name": "stdout",
     "output_type": "stream",
     "text": [
      "No is positive\n"
     ]
    }
   ],
   "source": [
    "Number=int(input(\"Enter any number:\"))\n",
    "if(Number<0):\n",
    "    print(\"No is negative\")\n",
    "elif(Number>0):\n",
    "        print(\"No is positive\")"
   ]
  },
  {
   "cell_type": "code",
   "execution_count": null,
   "id": "133ea0c8-9bf0-406f-8239-129e26e1dfc9",
   "metadata": {},
   "outputs": [],
   "source": [
    " # Check whether the given number is divisible by 5"
   ]
  },
  {
   "cell_type": "code",
   "execution_count": 46,
   "id": "e566da6f-de33-4f64-9ec9-20f2844565c3",
   "metadata": {},
   "outputs": [
    {
     "name": "stdin",
     "output_type": "stream",
     "text": [
      "Enter a number to check: 22\n"
     ]
    },
    {
     "name": "stdout",
     "output_type": "stream",
     "text": [
      "No is not divisible by 5\n"
     ]
    }
   ],
   "source": [
    "Number=int(input(\"Enter a number to check:\"))\n",
    "if(Number%5==0):\n",
    "    print(\"No is divisible by 5\")\n",
    "else:\n",
    "    print(\"No is not divisible by 5\")\n",
    "                 "
   ]
  },
  {
   "cell_type": "code",
   "execution_count": null,
   "id": "33338776-8947-4a88-ae58-eb9a4e7820ac",
   "metadata": {},
   "outputs": [],
   "source": []
  }
 ],
 "metadata": {
  "kernelspec": {
   "display_name": "Python 3 (ipykernel)",
   "language": "python",
   "name": "python3"
  },
  "language_info": {
   "codemirror_mode": {
    "name": "ipython",
    "version": 3
   },
   "file_extension": ".py",
   "mimetype": "text/x-python",
   "name": "python",
   "nbconvert_exporter": "python",
   "pygments_lexer": "ipython3",
   "version": "3.12.7"
  }
 },
 "nbformat": 4,
 "nbformat_minor": 5
}
